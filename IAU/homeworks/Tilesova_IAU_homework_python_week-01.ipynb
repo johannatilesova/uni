{
 "cells": [
  {
   "cell_type": "markdown",
   "metadata": {
    "colab_type": "text",
    "id": "PE4ExuwJjYZl"
   },
   "source": [
    "# Introduction to Python: DÚ"
   ]
  },
  {
   "cell_type": "code",
   "metadata": {
    "colab": {},
    "colab_type": "code",
    "id": "m7dnZNjx26I_",
    "ExecuteTime": {
     "end_time": "2025-09-28T18:31:20.343218Z",
     "start_time": "2025-09-28T18:31:20.339054Z"
    }
   },
   "source": [
    "# -*- coding: utf-8 -*-\n",
    "#\n",
    "# Licensed under the Apache License, Version 2.0 (the \"License\");\n",
    "# you may not use this file except in compliance with the License.\n",
    "# You may obtain a copy of the License at\n",
    "#\n",
    "# http://www.apache.org/licenses/LICENSE-2.0\n",
    "#\n",
    "# Unless required by applicable law or agreed to in writing, software\n",
    "# distributed under the License is distributed on an \"AS IS\" BASIS,\n",
    "# WITHOUT WARRANTIES OR CONDITIONS OF ANY KIND, either express or\n",
    "# implied.\n",
    "# See the License for the specific language governing permissions and\n",
    "# limitations under the License.\n",
    "#"
   ],
   "outputs": [],
   "execution_count": 127
  },
  {
   "cell_type": "markdown",
   "metadata": {
    "colab_type": "text",
    "id": "wtQeTdrV4kO_"
   },
   "source": [
    "Official python tutorial: [https://docs.python.org/3.8/tutorial/index.html](https://docs.python.org/3.8/tutorial/index.html) \n",
    "\n",
    "URL [https://github.com/jerry-git/learn-python3](https://github.com/jerry-git/learn-python3)"
   ]
  },
  {
   "cell_type": "markdown",
   "metadata": {
    "colab_type": "text",
    "id": "NNi-uBwHfdk0"
   },
   "source": [
    "## Task 1"
   ]
  },
  {
   "cell_type": "markdown",
   "metadata": {
    "colab_type": "text",
    "id": "X3eHvejdfgWj"
   },
   "source": [
    "You are given an array of strings:"
   ]
  },
  {
   "cell_type": "code",
   "metadata": {
    "colab": {},
    "colab_type": "code",
    "id": "1qj5175CfnTd",
    "ExecuteTime": {
     "end_time": "2025-09-28T18:31:20.405912Z",
     "start_time": "2025-09-28T18:31:20.402437Z"
    }
   },
   "source": [
    "from array import array\n",
    "\n",
    "from jupyterlab_server.process import list2cmdline\n",
    "\n",
    "array_to_split = [\"Fiit\", \"fiit\", \"megadlhystring!!!\", \"autobiografia\", \"Alica\", \"python\", \"pip\", \"env\", \"jupyter\", \"IAU\"]"
   ],
   "outputs": [],
   "execution_count": 128
  },
  {
   "cell_type": "markdown",
   "metadata": {
    "colab_type": "text",
    "id": "RaGmXpqghnQW"
   },
   "source": [
    "Write a function that, for the given array of strings, returns a new array containing only strings at prime indices. Then call this function with the field declared above as a parameter."
   ]
  },
  {
   "cell_type": "code",
   "metadata": {
    "colab": {},
    "colab_type": "code",
    "id": "W8ed3W40h529",
    "ExecuteTime": {
     "end_time": "2025-09-28T18:31:20.429103Z",
     "start_time": "2025-09-28T18:31:20.422090Z"
    }
   },
   "source": [
    "# Place for your code\n",
    "def prime_indices (array):\n",
    "    def is_prime(n):\n",
    "        if n < 2: \n",
    "            return False\n",
    "        else:\n",
    "            for i in range (2, int(n**0.5)+1):\n",
    "                if n % i == 0:\n",
    "                    return False\n",
    "            return True\n",
    "\n",
    "    result = []\n",
    "    for index in range(len(array)):\n",
    "        if is_prime(index):\n",
    "            result.append(array[index])\n",
    "    return result\n",
    "    \n",
    "splitted_array = prime_indices(array_to_split)\n",
    "print(splitted_array)"
   ],
   "outputs": [
    {
     "name": "stdout",
     "output_type": "stream",
     "text": [
      "['megadlhystring!!!', 'autobiografia', 'python', 'env']\n"
     ]
    }
   ],
   "execution_count": 129
  },
  {
   "cell_type": "markdown",
   "metadata": {
    "colab_type": "text",
    "id": "OsdZWqFsfvgk"
   },
   "source": [
    "Write a program that divides the above declared array into 3 new arrays, where in one array there will be strings of length less than 5. In the second array, strings of length between 5 and 10 (inclusive) and strings starting with the letter \"a\" or any uppercase letter while string of **any** length. In the third field, all other thongs."
   ]
  },
  {
   "cell_type": "code",
   "metadata": {
    "colab": {},
    "colab_type": "code",
    "id": "19OHF7shiDI9",
    "ExecuteTime": {
     "end_time": "2025-09-28T18:31:20.478853Z",
     "start_time": "2025-09-28T18:31:20.473072Z"
    }
   },
   "source": [
    "# Place for your code\n",
    "original_list = list(array_to_split)\n",
    "\n",
    "array1, array2, array3 = [], [], []\n",
    "\n",
    "for string in original_list:\n",
    "    if len(string) < 5:\n",
    "        array1.append(string)\n",
    "    elif (5 <= len(string) <= 10) or string[0] == 'a' or string[0].isupper():\n",
    "        array2.append(string)\n",
    "    else:\n",
    "        array3.append(string)\n",
    "\n",
    "print('array1: {}\\narray2: {}\\narray3: {}'.format(array1, array2, array3))"
   ],
   "outputs": [
    {
     "name": "stdout",
     "output_type": "stream",
     "text": [
      "array1: ['Fiit', 'fiit', 'pip', 'env', 'IAU']\n",
      "array2: ['autobiografia', 'Alica', 'python', 'jupyter']\n",
      "array3: ['megadlhystring!!!']\n"
     ]
    }
   ],
   "execution_count": 130
  },
  {
   "cell_type": "markdown",
   "metadata": {
    "colab_type": "text",
    "id": "-sZ6ISJMp1bR"
   },
   "source": [
    "## Task 2"
   ]
  },
  {
   "cell_type": "markdown",
   "metadata": {
    "colab_type": "text",
    "id": "MzlqAVbwp4qL"
   },
   "source": [
    "We have entered an array of numbers of type Interger (int)."
   ]
  },
  {
   "cell_type": "code",
   "metadata": {
    "colab": {},
    "colab_type": "code",
    "id": "9dEavPgJp7b1",
    "ExecuteTime": {
     "end_time": "2025-09-28T18:31:20.513384Z",
     "start_time": "2025-09-28T18:31:20.509749Z"
    }
   },
   "source": [
    "#array = [1, 4, 5, 1, 7, 5, 1, 5, 4, 2, 3, 4]\n",
    "#array = [1,2,3,4,5,5,6,6,4,4,5,5,12,12,1,1,1,1,1,2,1]\n",
    "array = [1,1,2,20]"
   ],
   "outputs": [],
   "execution_count": 131
  },
  {
   "cell_type": "markdown",
   "metadata": {
    "colab_type": "text",
    "id": "Ie99LXSfqacF"
   },
   "source": [
    "Write a function that tells us, for an array of ints, whether the array can be split into two arrays with the same sum. Then call this function on the field declared above. List two such fields (any that satisfy the condition of equal sum)."
   ]
  },
  {
   "cell_type": "code",
   "metadata": {
    "ExecuteTime": {
     "end_time": "2025-09-28T18:31:20.562389Z",
     "start_time": "2025-09-28T18:31:20.555358Z"
    }
   },
   "source": [
    "# Place for your code\n",
    "def split_function(arr):\n",
    "    sum_array = sum(arr)\n",
    "    if sum_array % 2 != 0:    #ak je neparny sucet, tak sa neda rovnomerne rozdelit\n",
    "        return False\n",
    "    \n",
    "    half = sum_array // 2\n",
    "    possible = {0}\n",
    "    \n",
    "    for number in arr:\n",
    "        possible |= {number + s for s in possible}\n",
    "        if half in possible:\n",
    "            return True\n",
    "    return False\n",
    "        \n",
    "print('Array:', split_function(array))\n",
    "\n",
    "list1 = [1, 5, 11, 5]\n",
    "list2 = [3, 1, 1, 2, 2, 1, 1]\n",
    "print('List 1:', (split_function(list1)))\n",
    "print('List 2:', split_function(list2))\n"
   ],
   "outputs": [
    {
     "name": "stdout",
     "output_type": "stream",
     "text": [
      "Array: False\n",
      "List 1: True\n",
      "List 2: False\n"
     ]
    }
   ],
   "execution_count": 132
  },
  {
   "metadata": {
    "ExecuteTime": {
     "end_time": "2025-09-28T18:31:20.604786Z",
     "start_time": "2025-09-28T18:31:20.601718Z"
    }
   },
   "cell_type": "code",
   "source": "",
   "outputs": [],
   "execution_count": null
  }
 ],
 "metadata": {
  "colab": {
   "collapsed_sections": [],
   "name": "IAU_uvod_do_pythonu.ipynb",
   "provenance": []
  },
  "kernelspec": {
   "display_name": "Python 3",
   "language": "python",
   "name": "python3"
  },
  "language_info": {
   "codemirror_mode": {
    "name": "ipython",
    "version": 3
   },
   "file_extension": ".py",
   "mimetype": "text/x-python",
   "name": "python",
   "nbconvert_exporter": "python",
   "pygments_lexer": "ipython3",
   "version": "3.8.2"
  }
 },
 "nbformat": 4,
 "nbformat_minor": 1
}
