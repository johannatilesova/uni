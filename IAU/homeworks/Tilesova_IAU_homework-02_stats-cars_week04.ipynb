{
 "cells": [
  {
   "cell_type": "markdown",
   "metadata": {},
   "source": [
    "# Statistical hypothesis testing\n",
    "\n",
    "URL https://github.com/FIIT-IAU/\n",
    "\n",
    "**We want to verify whether the number of engine cylinders has an effect on consumption.**"
   ]
  },
  {
   "cell_type": "code",
   "metadata": {},
   "source": [
    "import pandas as pd\n",
    "import matplotlib.pyplot as plt\n",
    "import seaborn as sns\n",
    "import statsmodels.api as sm\n",
    "import statsmodels.stats.api as sms\n",
    "import scipy.stats as stats\n",
    "from sklearn import preprocessing\n",
    "\n",
    "from scipy.stats import shapiro\n",
    "from scipy.stats import levene\n",
    "from scipy.stats import kruskal\n",
    "import numpy as np\n",
    "\n",
    "from statsmodels.formula.api import ols\n"
   ],
   "outputs": [],
   "execution_count": null
  },
  {
   "cell_type": "code",
   "metadata": {},
   "source": [
    "cars = pd.read_csv('data/auto-mpg.data',\n",
    "                   sep='\\\\s+',\n",
    "                   names = ['mpg', 'cylinders', 'displacement','horsepower',\n",
    "                            'weight', 'acceleration', 'model_year', 'origin', 'name'],\n",
    "                   na_values='?')\n",
    "cars.head()"
   ],
   "outputs": [],
   "execution_count": null
  },
  {
   "cell_type": "markdown",
   "metadata": {},
   "source": [
    "## Homework"
   ]
  },
  {
   "cell_type": "markdown",
   "metadata": {},
   "source": [
    "a. Check if the difference in fuel consumption between 4-cylinder and 6-cylinder engines is statistically significant.\n",
    "\n",
    "b. Check if the difference in fuel consumption between 4-cylinder and 5-cylinder engines is statistically significant.\n",
    "\n",
    "c. An even better approach is to use a statistical test that allows for the comparison of multiple groups at once. The generalization of the t-test for multiple groups is called **ANOVA (Analysis of Variance)**."
   ]
  },
  {
   "cell_type": "markdown",
   "metadata": {},
   "source": [
    "Invisible note\n",
    "<!--\n",
    "Care should be taken with repeated pair testing. With each additional test, the probability of the 1st order increases. In that case, a correction for retesting should be used, e.g. *Bonferroni correction*, when the $p$-value is compared against the $\\alpha / m$ value, where $\\alpha$ is the permissible value of the probability of the 1st order error and $m$ is the number of tested hypotheses (pairwise tests).\n",
    "//-->"
   ]
  },
  {
   "metadata": {},
   "cell_type": "markdown",
   "source": "# EDA"
  },
  {
   "metadata": {},
   "cell_type": "code",
   "source": "cars.dtypes",
   "outputs": [],
   "execution_count": null
  },
  {
   "metadata": {},
   "cell_type": "code",
   "source": "cars.shape",
   "outputs": [],
   "execution_count": null
  },
  {
   "metadata": {},
   "cell_type": "code",
   "source": "cars.info()",
   "outputs": [],
   "execution_count": null
  },
  {
   "metadata": {},
   "cell_type": "code",
   "source": "cars.isnull().sum()",
   "outputs": [],
   "execution_count": null
  },
  {
   "metadata": {},
   "cell_type": "code",
   "source": [
    "# dropni riadky s NA\n",
    "cars = cars.dropna(subset=['horsepower'])\n",
    "cars.shape"
   ],
   "outputs": [],
   "execution_count": null
  },
  {
   "metadata": {},
   "cell_type": "code",
   "source": "cars.isna().sum()",
   "outputs": [],
   "execution_count": null
  },
  {
   "metadata": {},
   "cell_type": "code",
   "source": [
    "sns.set(style=\"whitegrid\", context=\"notebook\")\n",
    "\n",
    "numeric = cars.select_dtypes(include=['float64', 'int64']).columns\n",
    "cars[numeric].describe()"
   ],
   "outputs": [],
   "execution_count": null
  },
  {
   "metadata": {},
   "cell_type": "markdown",
   "source": "#### Distribúcie číselných premenných"
  },
  {
   "metadata": {},
   "cell_type": "code",
   "source": [
    "fig, axes = plt.subplots(nrows=4, ncols=2, figsize=(16, 12))\n",
    "axes = axes.flatten()\n",
    "\n",
    "for i, col in enumerate(numeric):\n",
    "    sns.histplot(cars[col], kde=True, ax=axes[i])\n",
    "    axes[i].set_title(f'Distribúcia: {col}')\n",
    "    axes[i].set_xlabel(col)\n",
    "    axes[i].set_ylabel('Počet áut')\n",
    "\n",
    "# ak je počet grafov menší než počet subplotov, zvyšné vypneme\n",
    "for j in range(i + 1, len(axes)):\n",
    "    fig.delaxes(axes[j])\n",
    "\n",
    "plt.tight_layout()\n",
    "plt.show()"
   ],
   "outputs": [],
   "execution_count": null
  },
  {
   "metadata": {},
   "cell_type": "markdown",
   "source": "#### Boxplot mpg podľa počtu valcov"
  },
  {
   "metadata": {},
   "cell_type": "code",
   "source": [
    "plt.figure(figsize=(10,6))\n",
    "sns.boxplot(x=cars['cylinders'], y='mpg', data=cars)\n",
    "plt.xlabel('Počet valcov')\n",
    "plt.ylabel('MPG (spotreba – míle na galón)')\n",
    "plt.title('MPG podľa počtu valcov')\n",
    "plt.show()"
   ],
   "outputs": [],
   "execution_count": null
  },
  {
   "metadata": {},
   "cell_type": "markdown",
   "source": "6-valcové: výrazne asymetrické a extrémne hodnoty (outliery) môžu ovplyvniť výsledky testov."
  },
  {
   "metadata": {},
   "cell_type": "code",
   "source": [
    "six = cars[cars['cylinders'] == 6]\n",
    "q1 = six['mpg'].quantile(0.25)\n",
    "q3 = six['mpg'].quantile(0.75)\n",
    "iqr = q3 - q1\n",
    "\n",
    "lower = q1 - 1.5 * iqr\n",
    "upper = q3 + 1.5 * iqr\n",
    "\n",
    "six_no_out = six[(six['mpg'] >= lower) & (six['mpg'] <= upper)]"
   ],
   "outputs": [],
   "execution_count": null
  },
  {
   "metadata": {},
   "cell_type": "code",
   "source": [
    "plt.figure(figsize=(10,6))\n",
    "sns.boxplot(x=cars_no_out['cylinders'], y='mpg', data=cars_no_out)\n",
    "plt.xlabel('Počet valcov')\n",
    "plt.ylabel('MPG (spotreba – míle na galón)')\n",
    "plt.title('MPG podľa počtu valcov (bez outlierov)')\n",
    "plt.show()"
   ],
   "outputs": [],
   "execution_count": null
  },
  {
   "metadata": {},
   "cell_type": "code",
   "source": [
    "cars_clean = pd.concat([\n",
    "    cars[cars['cylinders'] != 6],\n",
    "    six_no_out\n",
    "])\n",
    "cars_no_out = cars_clean.copy()"
   ],
   "outputs": [],
   "execution_count": null
  },
  {
   "metadata": {},
   "cell_type": "code",
   "source": [
    "fig, axes = plt.subplots(1, 2, figsize=(16,6))\n",
    "\n",
    "sns.boxplot(x=cars['cylinders'].astype(str), y='mpg', data=cars, ax=axes[0])\n",
    "axes[0].set_title('Pôvodné dáta')\n",
    "\n",
    "sns.boxplot(x=cars_clean['cylinders'].astype(str), y='mpg', data=cars_clean, ax=axes[1])\n",
    "axes[1].set_title('Bez extrémov pri 6 valcoch')\n",
    "\n",
    "plt.show()"
   ],
   "outputs": [],
   "execution_count": null
  },
  {
   "metadata": {},
   "cell_type": "code",
   "source": [
    "import statsmodels.api as sm\n",
    "\n",
    "for c in sorted(cars['cylinders'].dropna().unique()):\n",
    "    plt.figure(figsize=(4,4))\n",
    "    sm.qqplot(cars.loc[cars['cylinders']==c, 'mpg'], line='s')\n",
    "    plt.title(f'cylinders={c}')\n",
    "    plt.show()"
   ],
   "outputs": [],
   "execution_count": null
  },
  {
   "metadata": {},
   "cell_type": "markdown",
   "source": [
    "### Predpoklady pre hypotézy ANOVA\n",
    "- H₀ (ANOVA): Priemerné mpg je rovnaké pre všetky skupiny valcov (4, 6, 8).\n",
    "- H₁: Aspoň jedna skupina sa líši."
   ]
  },
  {
   "metadata": {},
   "cell_type": "markdown",
   "source": "#### 1. Normalita v skupinách:\n"
  },
  {
   "metadata": {},
   "cell_type": "code",
   "source": [
    "for c in sorted(cars['cylinders'].dropna().unique()):\n",
    "    x = cars.loc[cars['cylinders']==c, 'mpg'].dropna()\n",
    "    if len(x) >= 3 and len(x) <= 5000:  # Shapiro limit\n",
    "        stat, p = shapiro(x)\n",
    "        print(f'cyl={c}: Shapiro p={p:.4f}, n={len(x)}')"
   ],
   "outputs": [],
   "execution_count": null
  },
  {
   "metadata": {},
   "cell_type": "markdown",
   "source": [
    "##### Notes\n",
    "- cyl=4 --> OK (p > 0.05)\n",
    "- cyl=5 a cyl=3 --> má málo dát, ťažko posúdiť normalitu\n",
    "- cyl=6 a cyl=8 --> p=0.0000 (p < 0.05), teda zamietame H₀ o normalite\n",
    "\n",
    "Záver: ANOVA nie je vhodná ako primárny test"
   ]
  },
  {
   "metadata": {},
   "cell_type": "markdown",
   "source": "#### 2. Homogenita variancií (Levene):"
  },
  {
   "metadata": {},
   "cell_type": "code",
   "source": [
    "groups = [cars.loc[cars['cylinders']==c, 'mpg'].dropna() for c in sorted(cars['cylinders'].dropna().unique())]\n",
    "stat, p = levene(*groups, center='median')  # median je robustnejší\n",
    "print(f'Levene p={p:.4f}')"
   ],
   "outputs": [],
   "execution_count": null
  },
  {
   "metadata": {},
   "cell_type": "markdown",
   "source": "- potvrdenie ze ANOVA nie je vhodná ako primárny test (p < 0.05)"
  },
  {
   "metadata": {},
   "cell_type": "markdown",
   "source": [
    "## Mann–Whitney U test (neparametrický)\n",
    "\n",
    "### a. porovnanie 4 vs 6 valcov"
   ]
  },
  {
   "metadata": {},
   "cell_type": "code",
   "source": [
    "from scipy.stats import mannwhitneyu\n",
    "\n",
    "# 4 vs 6\n",
    "x4 = cars.loc[cars['cylinders']==4, 'mpg']\n",
    "x6 = cars.loc[cars['cylinders']==6, 'mpg']\n",
    "stat_46, p_46 = mannwhitneyu(x4, x6, alternative='two-sided')\n",
    "print(f'4 vs 6 -> U={stat_46:.2f}, p={p_46:.6f}')"
   ],
   "outputs": [],
   "execution_count": null
  },
  {
   "metadata": {},
   "cell_type": "markdown",
   "source": "### b. porovnanie 4 vs 5 valcov"
  },
  {
   "metadata": {},
   "cell_type": "code",
   "source": [
    "x5 = cars.loc[cars['cylinders']==5, 'mpg']\n",
    "stat_45, p_45 = mannwhitneyu(x4, x5, alternative='two-sided')\n",
    "print(f'4 vs 5 -> U={stat_45:.2f}, p={p_45:.6f}')"
   ],
   "outputs": [],
   "execution_count": null
  },
  {
   "metadata": {},
   "cell_type": "markdown",
   "source": [
    "##### Notes\n",
    "- 4 vs 6: p < 0.05 → štatisticky významný rozdiel\n",
    "- 4 vs 5: p > 0.05 → žiadny štatisticky významný rozdiel\n",
    "\n",
    "Vysledok: Parametrický t-test nie je vhodný"
   ]
  },
  {
   "metadata": {
    "ExecuteTime": {
     "end_time": "2025-10-19T20:09:38.806550Z",
     "start_time": "2025-10-19T20:09:38.310061Z"
    }
   },
   "cell_type": "code",
   "source": [
    "plt.figure(figsize=(8,5))\n",
    "sns.barplot(\n",
    "    x=cars['cylinders'],\n",
    "    y=cars['mpg'],\n",
    "    estimator=np.mean\n",
    ")\n",
    "plt.xlabel('Počet valcov')\n",
    "plt.ylabel('Priemerné MPG')\n",
    "plt.title('Priemerná spotreba podľa počtu valcov')\n",
    "plt.show()"
   ],
   "outputs": [
    {
     "data": {
      "text/plain": [
       "<Figure size 800x500 with 1 Axes>"
      ],
      "image/png": "[encoded data removed]"
     },
     "metadata": {},
     "output_type": "display_data"
    }
   ],
   "execution_count": 252
  },
  {
   "metadata": {},
   "cell_type": "markdown",
   "source": "## c. Testy ANOVA\n"
  },
  {
   "metadata": {},
   "cell_type": "code",
   "source": [
    "summary = cars.groupby('cylinders')['mpg'].agg(n='count', mean='mean', std='std', median='median')\n",
    "summary\n"
   ],
   "outputs": [],
   "execution_count": null
  },
  {
   "metadata": {},
   "cell_type": "markdown",
   "source": "### Varianta A: Klasická ANOVA"
  },
  {
   "metadata": {},
   "cell_type": "code",
   "source": [
    "model = ols('mpg ~ C(cylinders)', data=cars).fit()\n",
    "anova_table = sm.stats.anova_lm(model, typ=2)\n",
    "anova_table"
   ],
   "outputs": [],
   "execution_count": null
  },
  {
   "metadata": {},
   "cell_type": "markdown",
   "source": "### Varianta B: Welch ANOVA"
  },
  {
   "metadata": {},
   "cell_type": "code",
   "source": [
    "model = ols('mpg ~ C(cylinders)', data=cars).fit()\n",
    "\n",
    "# Welch ANOVA = ANOVA s robustnou korekciou (HC3)\n",
    "welch_anova = sm.stats.anova_lm(model, typ=2, robust=\"hc3\")\n",
    "welch_anova"
   ],
   "outputs": [],
   "execution_count": null
  },
  {
   "metadata": {},
   "cell_type": "markdown",
   "source": [
    "## Report\n",
    "Na základe analýzy dát môžeme konštatovať, že počet valcov v automobile má štatisticky významný vplyv na spotrebu paliva (`mpg`). Predpoklady klasickej ANOVA (normalita a homogenita variancií) neboli splnené, preto bola použitá robustnejšia metóda Welch ANOVA, ktorá potvrdila signifikantný rozdiel medzi skupinami (p < 0.001). \n",
    "\n",
    "Post-hoc porovnania ukázali, že najväčší rozdiel sa prejavuje medzi 4-valcovými a 6-valcovými motormi – 4-valcové vozidlá majú podstatne vyššie hodnoty mpg, teda nižšiu spotrebu. Rozdiel medzi 4-valcovými a 5-valcovými motormi je taktiež štatisticky významný, avšak je potrebné brať do úvahy veľmi malý počet vozidiel s 5 valcami v datasete.\n",
    "\n",
    "\n",
    "### Zhrnutie výsledkov testov:\n",
    "- Mann–Whitney U test:\n",
    "    - 4 vs 6 valcov: p < 0.05 → štatisticky významný rozdiel\n",
    "    - 4 vs 5 valcov: p > 0.05 → žiadny štatisticky významný rozdiel\n",
    "- Welch ANOVA: p < 0.001 → počet valcov má významný vplyv na spotrebu paliva (mpg).\n",
    "- Post-hoc analýza: Najväčší rozdiel medzi 4-valcovými a 6-valcovými motormi.\n",
    "\n"
   ]
  },
  {
   "metadata": {},
   "cell_type": "markdown",
   "source": ""
  }
 ],
 "metadata": {
  "kernelspec": {
   "display_name": "Python 3",
   "language": "python",
   "name": "python3"
  },
  "language_info": {
   "codemirror_mode": {
    "name": "ipython",
    "version": 3
   },
   "file_extension": ".py",
   "mimetype": "text/x-python",
   "name": "python",
   "nbconvert_exporter": "python",
   "pygments_lexer": "ipython3",
   "version": "3.8.2"
  }
 },
 "nbformat": 4,
 "nbformat_minor": 2
}
